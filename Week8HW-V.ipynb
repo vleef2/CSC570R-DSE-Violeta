{
 "metadata": {
  "name": "",
  "signature": "sha256:84fbb9e3ca684bd7691b1d2dd290a86869d9a0f8845a16d675669956b375f2d0"
 },
 "nbformat": 3,
 "nbformat_minor": 0,
 "worksheets": [
  {
   "cells": [
    {
     "cell_type": "markdown",
     "metadata": {},
     "source": [
      "$Violeta$ $Lee$ $Fay$ $Li$<br>\n",
      "$CSC570R$ $-$ $Spring$ $2015$<br>\n",
      "<br>"
     ]
    },
    {
     "cell_type": "markdown",
     "metadata": {},
     "source": [
      "##Goal:  Train a Naive Bayes model to classify future SMS messages as either spam or ham.\n",
      "\n",
      "Steps:\n",
      "\n",
      "1.  Convert the words ham and spam to a binary indicator variable(0/1)\n",
      "\n",
      "2.  Convert the txt to a sparse matrix of TFIDF vectors\n",
      "\n",
      "3.  Fit a Naive Bayes Classifier\n",
      "\n",
      "4.  Measure your success using roc_auc_score\n",
      "\n"
     ]
    },
    {
     "cell_type": "code",
     "collapsed": false,
     "input": [
      "import pandas as pd\n",
      "import nltk\n",
      "import numpy as np\n",
      "from nltk.corpus import stopwords\n",
      "from sklearn.feature_extraction.text import TfidfVectorizer\n",
      "from sklearn.cross_validation import train_test_split\n",
      "from sklearn import naive_bayes\n",
      "from sklearn.metrics import roc_auc_score\n",
      "nltk.download('stopwords')"
     ],
     "language": "python",
     "metadata": {},
     "outputs": [
      {
       "output_type": "stream",
       "stream": "stdout",
       "text": [
        "[nltk_data] Downloading package stopwords to\n",
        "[nltk_data]     C:\\Users\\Michito\\AppData\\Roaming\\nltk_data...\n",
        "[nltk_data]   Package stopwords is already up-to-date!\n"
       ]
      },
      {
       "metadata": {},
       "output_type": "pyout",
       "prompt_number": 1,
       "text": [
        "True"
       ]
      }
     ],
     "prompt_number": 1
    },
    {
     "cell_type": "code",
     "collapsed": false,
     "input": [
      "df= pd.read_csv(\"SMSSpamCollection\",sep='\\t', names=['spam', 'txt'])"
     ],
     "language": "python",
     "metadata": {},
     "outputs": [],
     "prompt_number": 2
    },
    {
     "cell_type": "code",
     "collapsed": false,
     "input": [
      "df.head()"
     ],
     "language": "python",
     "metadata": {},
     "outputs": [
      {
       "html": [
        "<div style=\"max-height:1000px;max-width:1500px;overflow:auto;\">\n",
        "<table border=\"1\" class=\"dataframe\">\n",
        "  <thead>\n",
        "    <tr style=\"text-align: right;\">\n",
        "      <th></th>\n",
        "      <th>spam</th>\n",
        "      <th>txt</th>\n",
        "    </tr>\n",
        "  </thead>\n",
        "  <tbody>\n",
        "    <tr>\n",
        "      <th>0</th>\n",
        "      <td>  ham</td>\n",
        "      <td> Go until jurong point, crazy.. Available only ...</td>\n",
        "    </tr>\n",
        "    <tr>\n",
        "      <th>1</th>\n",
        "      <td>  ham</td>\n",
        "      <td>                     Ok lar... Joking wif u oni...</td>\n",
        "    </tr>\n",
        "    <tr>\n",
        "      <th>2</th>\n",
        "      <td> spam</td>\n",
        "      <td> Free entry in 2 a wkly comp to win FA Cup fina...</td>\n",
        "    </tr>\n",
        "    <tr>\n",
        "      <th>3</th>\n",
        "      <td>  ham</td>\n",
        "      <td> U dun say so early hor... U c already then say...</td>\n",
        "    </tr>\n",
        "    <tr>\n",
        "      <th>4</th>\n",
        "      <td>  ham</td>\n",
        "      <td> Nah I don't think he goes to usf, he lives aro...</td>\n",
        "    </tr>\n",
        "  </tbody>\n",
        "</table>\n",
        "</div>"
       ],
       "metadata": {},
       "output_type": "pyout",
       "prompt_number": 3,
       "text": [
        "   spam                                                txt\n",
        "0   ham  Go until jurong point, crazy.. Available only ...\n",
        "1   ham                      Ok lar... Joking wif u oni...\n",
        "2  spam  Free entry in 2 a wkly comp to win FA Cup fina...\n",
        "3   ham  U dun say so early hor... U c already then say...\n",
        "4   ham  Nah I don't think he goes to usf, he lives aro..."
       ]
      }
     ],
     "prompt_number": 3
    },
    {
     "cell_type": "markdown",
     "metadata": {},
     "source": [
      "$1$ - Converting words ham and spam into binary indicator variables.<br>\n",
      "<br>\n",
      "Set dependent variable to be spam with values of \"ham\" and \"spam\" and obtain dummy variables to convert \"ham\" = 1 and \"spam\" = 0."
     ]
    },
    {
     "cell_type": "code",
     "collapsed": false,
     "input": [
      "x = pd.get_dummies(df.spam)['ham']"
     ],
     "language": "python",
     "metadata": {},
     "outputs": [],
     "prompt_number": 4
    },
    {
     "cell_type": "markdown",
     "metadata": {},
     "source": [
      "$2$ - Convert the df.txt to a Sparse Matrix of TFIDF Vectors: <br>\n",
      "<br>\n",
      "Define the stopwords and vectorizer."
     ]
    },
    {
     "cell_type": "code",
     "collapsed": false,
     "input": [
      "stopset = set(stopwords.words('english'))\n",
      "vectorizer = TfidfVectorizer(use_idf=True, lowercase=True, strip_accents='ascii', stop_words=stopset)"
     ],
     "language": "python",
     "metadata": {},
     "outputs": [],
     "prompt_number": 5
    },
    {
     "cell_type": "code",
     "collapsed": false,
     "input": [
      "Y = vectorizer.fit_transform(df.txt)"
     ],
     "language": "python",
     "metadata": {},
     "outputs": [],
     "prompt_number": 6
    },
    {
     "cell_type": "markdown",
     "metadata": {},
     "source": [
      "$3$ - Fit a Naive Bayes Classifier. <br>\n",
      "<br>\n",
      "Create a Train - Test sets"
     ]
    },
    {
     "cell_type": "code",
     "collapsed": false,
     "input": [
      "Y_train, Y_test,x_train, x_test = train_test_split(Y, x, random_state=42)"
     ],
     "language": "python",
     "metadata": {},
     "outputs": [],
     "prompt_number": 7
    },
    {
     "cell_type": "markdown",
     "metadata": {},
     "source": [
      "Train a Naive Bayes Classifier."
     ]
    },
    {
     "cell_type": "code",
     "collapsed": false,
     "input": [
      "clf = naive_bayes.MultinomialNB()\n",
      "clf.fit(Y_train, x_train)"
     ],
     "language": "python",
     "metadata": {},
     "outputs": [
      {
       "metadata": {},
       "output_type": "pyout",
       "prompt_number": 8,
       "text": [
        "MultinomialNB(alpha=1.0, class_prior=None, fit_prior=True)"
       ]
      }
     ],
     "prompt_number": 8
    },
    {
     "cell_type": "markdown",
     "metadata": {},
     "source": [
      "$4$ - Measuring the model's accuracy:"
     ]
    },
    {
     "cell_type": "code",
     "collapsed": false,
     "input": [
      "roc_auc_score(x_test, clf.predict_proba(Y_test)[:,1])"
     ],
     "language": "python",
     "metadata": {},
     "outputs": [
      {
       "metadata": {},
       "output_type": "pyout",
       "prompt_number": 9,
       "text": [
        "0.98558587451336732"
       ]
      }
     ],
     "prompt_number": 9
    },
    {
     "cell_type": "markdown",
     "metadata": {},
     "source": [
      "Based on the AUC ROC Score, the model has a good ability to differentiate between ham and spam."
     ]
    }
   ],
   "metadata": {}
  }
 ]
}