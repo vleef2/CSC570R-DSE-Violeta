{
 "metadata": {
  "name": "",
  "signature": "sha256:31e8c74a9d69cb703c8c81acbf45b574ea49ca8307dd9c2bd7f6f4aae8de6ede"
 },
 "nbformat": 3,
 "nbformat_minor": 0,
 "worksheets": [
  {
   "cells": [
    {
     "cell_type": "markdown",
     "metadata": {},
     "source": [
      "$Violeta$ $Lee$ $Fay$ $Li$<br>\n",
      "$CSC570R$ $-$ $Spring$ $2015$<br>\n",
      "\n",
      "## Boston Housing Assignment\n",
      "\n",
      "In this assignment you'll be using linear regression to estimate the cost of house in boston, using a well known dataset.\n",
      "\n",
      "Goals:\n",
      "+  Measure the performance of the model I created using $R^{2}$ and MSE\n",
      "> Learn how to use sklearn.metrics.r2_score and sklearn.metrics.mean_squared_error\n",
      "+  Implement a new model using L2 regularization\n",
      "> Use sklearn.linear_model.Ridge or sklearn.linear_model.Lasso \n",
      "+  Get the best model you can by optimizing the regularization parameter.   "
     ]
    },
    {
     "cell_type": "code",
     "collapsed": false,
     "input": [
      "from sklearn import datasets\n",
      "import pandas as pd\n",
      "from sklearn.preprocessing import StandardScaler\n",
      "from sklearn.cross_validation import train_test_split\n",
      "from sklearn.metrics import mean_squared_error\n",
      "from sklearn.metrics import r2_score\n",
      "from sklearn.linear_model import LinearRegression"
     ],
     "language": "python",
     "metadata": {},
     "outputs": [],
     "prompt_number": 1
    },
    {
     "cell_type": "code",
     "collapsed": false,
     "input": [
      "bean = datasets.load_boston()\n",
      "print bean.DESCR"
     ],
     "language": "python",
     "metadata": {},
     "outputs": [
      {
       "output_type": "stream",
       "stream": "stdout",
       "text": [
        "Boston House Prices dataset\n",
        "\n",
        "Notes\n",
        "------\n",
        "Data Set Characteristics:  \n",
        "\n",
        "    :Number of Instances: 506 \n",
        "\n",
        "    :Number of Attributes: 13 numeric/categorical predictive\n",
        "    \n",
        "    :Median Value (attribute 14) is usually the target\n",
        "\n",
        "    :Attribute Information (in order):\n",
        "        - CRIM     per capita crime rate by town\n",
        "        - ZN       proportion of residential land zoned for lots over 25,000 sq.ft.\n",
        "        - INDUS    proportion of non-retail business acres per town\n",
        "        - CHAS     Charles River dummy variable (= 1 if tract bounds river; 0 otherwise)\n",
        "        - NOX      nitric oxides concentration (parts per 10 million)\n",
        "        - RM       average number of rooms per dwelling\n",
        "        - AGE      proportion of owner-occupied units built prior to 1940\n",
        "        - DIS      weighted distances to five Boston employment centres\n",
        "        - RAD      index of accessibility to radial highways\n",
        "        - TAX      full-value property-tax rate per $10,000\n",
        "        - PTRATIO  pupil-teacher ratio by town\n",
        "        - B        1000(Bk - 0.63)^2 where Bk is the proportion of blacks by town\n",
        "        - LSTAT    % lower status of the population\n",
        "        - MEDV     Median value of owner-occupied homes in $1000's\n",
        "\n",
        "    :Missing Attribute Values: None\n",
        "\n",
        "    :Creator: Harrison, D. and Rubinfeld, D.L.\n",
        "\n",
        "This is a copy of UCI ML housing dataset.\n",
        "http://archive.ics.uci.edu/ml/datasets/Housing\n",
        "\n",
        "\n",
        "This dataset was taken from the StatLib library which is maintained at Carnegie Mellon University.\n",
        "\n",
        "The Boston house-price data of Harrison, D. and Rubinfeld, D.L. 'Hedonic\n",
        "prices and the demand for clean air', J. Environ. Economics & Management,\n",
        "vol.5, 81-102, 1978.   Used in Belsley, Kuh & Welsch, 'Regression diagnostics\n",
        "...', Wiley, 1980.   N.B. Various transformations are used in the table on\n",
        "pages 244-261 of the latter.\n",
        "\n",
        "The Boston house-price data has been used in many machine learning papers that address regression\n",
        "problems.   \n",
        "     \n",
        "**References**\n",
        "\n",
        "   - Belsley, Kuh & Welsch, 'Regression diagnostics: Identifying Influential Data and Sources of Collinearity', Wiley, 1980. 244-261.\n",
        "   - Quinlan,R. (1993). Combining Instance-Based and Model-Based Learning. In Proceedings on the Tenth International Conference of Machine Learning, 236-243, University of Massachusetts, Amherst. Morgan Kaufmann.\n",
        "   - many more! (see http://archive.ics.uci.edu/ml/datasets/Housing)\n",
        "\n"
       ]
      }
     ],
     "prompt_number": 2
    },
    {
     "cell_type": "code",
     "collapsed": false,
     "input": [
      "def load_boston():\n",
      "    scaler = StandardScaler()\n",
      "    boston = datasets.load_boston()\n",
      "    X=boston.data\n",
      "    y=boston.target\n",
      "    X = scaler.fit_transform(X)\n",
      "    return train_test_split(X,y)\n",
      "    "
     ],
     "language": "python",
     "metadata": {},
     "outputs": [],
     "prompt_number": 3
    },
    {
     "cell_type": "code",
     "collapsed": false,
     "input": [
      "X_train, X_test, y_train, y_test = load_boston()"
     ],
     "language": "python",
     "metadata": {},
     "outputs": [],
     "prompt_number": 4
    },
    {
     "cell_type": "code",
     "collapsed": false,
     "input": [
      "X_train.shape"
     ],
     "language": "python",
     "metadata": {},
     "outputs": [
      {
       "metadata": {},
       "output_type": "pyout",
       "prompt_number": 5,
       "text": [
        "(379L, 13L)"
       ]
      }
     ],
     "prompt_number": 5
    },
    {
     "cell_type": "markdown",
     "metadata": {},
     "source": [
      "### Fitting a Linear Regression\n",
      "\n",
      "It's as easy as instantiating a new regression object (line 1) and giving your regression object your training data\n",
      "(line 2) by calling .fit(independent variables, dependent variable)\n",
      "\n"
     ]
    },
    {
     "cell_type": "code",
     "collapsed": false,
     "input": [
      "clf = LinearRegression()\n",
      "clf.fit(X_train, y_train)"
     ],
     "language": "python",
     "metadata": {},
     "outputs": [
      {
       "metadata": {},
       "output_type": "pyout",
       "prompt_number": 6,
       "text": [
        "LinearRegression(copy_X=True, fit_intercept=True, normalize=False)"
       ]
      }
     ],
     "prompt_number": 6
    },
    {
     "cell_type": "markdown",
     "metadata": {},
     "source": [
      "### Making a Prediction\n",
      "X_test is our holdout set of data.  We know the answer (y_test) but the computer does not.   \n",
      "\n",
      "Using the command below, I create a tuple for each observation, where I'm combining the real value (y_test) with\n",
      "the value our regressor predicts (clf.predict(X_test))\n",
      "\n",
      "Use a similiar format to get your r2 and mse metrics working.  Using the [scikit learn api](http://scikit-learn.org/stable/modules/model_evaluation.html) if you need help!"
     ]
    },
    {
     "cell_type": "code",
     "collapsed": false,
     "input": [
      "zip (y_test, clf.predict(X_test))"
     ],
     "language": "python",
     "metadata": {},
     "outputs": [
      {
       "metadata": {},
       "output_type": "pyout",
       "prompt_number": 7,
       "text": [
        "[(19.300000000000001, 20.379133123615084),\n",
        " (26.5, 25.544278117515457),\n",
        " (22.199999999999999, 19.274983668098095),\n",
        " (23.699999999999999, 27.766643453684992),\n",
        " (28.699999999999999, 30.386242423628179),\n",
        " (22.800000000000001, 26.196762208281896),\n",
        " (31.100000000000001, 31.565515962074215),\n",
        " (23.600000000000001, 30.626844961331507),\n",
        " (19.899999999999999, 18.373321556158174),\n",
        " (20.0, 20.104198800902022),\n",
        " (16.5, 10.537294020799875),\n",
        " (23.399999999999999, 23.898018261560267),\n",
        " (33.200000000000003, 31.468773131690071),\n",
        " (17.800000000000001, 17.310039387281883),\n",
        " (23.300000000000001, 22.585837507173849),\n",
        " (22.0, 26.780720160343577),\n",
        " (14.4, 8.230794422416924),\n",
        " (8.0999999999999996, 3.0325584611909022),\n",
        " (18.800000000000001, 20.57336759506607),\n",
        " (23.100000000000001, 25.206812385846714),\n",
        " (13.1, 14.203196090123335),\n",
        " (19.399999999999999, 17.325158376385922),\n",
        " (30.699999999999999, 29.701619073787334),\n",
        " (7.5, 12.521818774780126),\n",
        " (13.5, 13.529019155067582),\n",
        " (24.100000000000001, 29.385342768800733),\n",
        " (14.1, 16.010945204601434),\n",
        " (28.399999999999999, 30.46891724527617),\n",
        " (32.200000000000003, 30.79335500804876),\n",
        " (29.600000000000001, 24.38876504345799),\n",
        " (36.100000000000001, 32.465891072901002),\n",
        " (22.300000000000001, 26.546293666322864),\n",
        " (22.800000000000001, 24.796352695428038),\n",
        " (23.300000000000001, 25.864986241634046),\n",
        " (30.300000000000001, 31.860864148051469),\n",
        " (17.100000000000001, 17.091612322575617),\n",
        " (19.0, 15.2529592063942),\n",
        " (25.0, 25.804010833396607),\n",
        " (8.4000000000000004, 13.83839393106447),\n",
        " (22.0, 21.539172353075202),\n",
        " (10.5, 6.5138627966396605),\n",
        " (19.699999999999999, 21.276297268298634),\n",
        " (21.699999999999999, 20.28251792548329),\n",
        " (23.899999999999999, 27.797510732492345),\n",
        " (43.799999999999997, 33.931027374264595),\n",
        " (13.9, 16.812194983159301),\n",
        " (16.0, 19.355224316874924),\n",
        " (21.699999999999999, 21.872714910093507),\n",
        " (44.799999999999997, 37.353681594918818),\n",
        " (14.4, 2.788254938611388),\n",
        " (16.699999999999999, 19.998920648560578),\n",
        " (10.800000000000001, 11.506271352443093),\n",
        " (24.0, 30.017227201829247),\n",
        " (19.800000000000001, 21.593870509951895),\n",
        " (29.100000000000001, 31.397953184638123),\n",
        " (50.0, 40.376552872897705),\n",
        " (29.100000000000001, 30.040694165442069),\n",
        " (11.699999999999999, 16.833587531759274),\n",
        " (17.199999999999999, 16.813074609926936),\n",
        " (24.800000000000001, 25.577348246717733),\n",
        " (20.399999999999999, 20.638304328153168),\n",
        " (13.1, 15.148229682449653),\n",
        " (31.699999999999999, 33.014024806359373),\n",
        " (23.899999999999999, 27.720202997982806),\n",
        " (11.9, 22.932243891984502),\n",
        " (22.899999999999999, 25.46943634916056),\n",
        " (50.0, 41.343353887386598),\n",
        " (8.5, 16.592320709318685),\n",
        " (33.100000000000001, 32.313645023971624),\n",
        " (15.0, 17.388050243416487),\n",
        " (17.399999999999999, 17.747296607379212),\n",
        " (25.100000000000001, 29.679814504408),\n",
        " (13.800000000000001, 10.483168670124476),\n",
        " (27.100000000000001, 27.469990917041816),\n",
        " (50.0, 35.137079984728516),\n",
        " (13.800000000000001, 20.55787557321413),\n",
        " (50.0, 39.773315581995035),\n",
        " (11.5, 14.685907122288214),\n",
        " (27.5, 24.487328431343791),\n",
        " (37.899999999999999, 33.772247385611095),\n",
        " (20.5, 20.905005285771786),\n",
        " (50.0, 41.952090343449882),\n",
        " (26.399999999999999, 22.958373514813594),\n",
        " (25.0, 25.343921350844571),\n",
        " (20.800000000000001, 23.335302275087376),\n",
        " (20.0, 22.537225588934305),\n",
        " (22.5, 21.861539789816895),\n",
        " (23.300000000000001, 28.440844403955293),\n",
        " (37.600000000000001, 37.037876556707012),\n",
        " (23.399999999999999, 24.242735636796333),\n",
        " (18.5, 19.900430126714799),\n",
        " (21.699999999999999, 21.737774022424013),\n",
        " (17.5, 18.517867392172381),\n",
        " (18.399999999999999, 19.01157400244108),\n",
        " (32.5, 31.36429279199502),\n",
        " (19.800000000000001, 22.634550578054878),\n",
        " (48.799999999999997, 39.35355759854577),\n",
        " (22.899999999999999, 23.082445563168037),\n",
        " (24.699999999999999, 25.539700527843127),\n",
        " (13.800000000000001, 17.263429353891361),\n",
        " (11.300000000000001, 13.470776452089604),\n",
        " (23.699999999999999, 9.0285484131772744),\n",
        " (19.600000000000001, 21.914456345438587),\n",
        " (22.100000000000001, 27.132408071341271),\n",
        " (21.0, 20.88431950103876),\n",
        " (33.399999999999999, 34.97054059867753),\n",
        " (21.0, 21.134425150044549),\n",
        " (28.100000000000001, 24.837980469667048),\n",
        " (22.199999999999999, 24.215454512259406),\n",
        " (7.4000000000000004, 5.1414679238601551),\n",
        " (24.399999999999999, 22.804746826938903),\n",
        " (19.300000000000001, 21.107793880360013),\n",
        " (20.600000000000001, 22.436039211955073),\n",
        " (19.600000000000001, 18.786309215567869),\n",
        " (13.4, 13.061674628083015),\n",
        " (19.600000000000001, 19.629948222856278),\n",
        " (19.699999999999999, 13.616184510225279),\n",
        " (38.700000000000003, 34.83035289871615),\n",
        " (22.399999999999999, 23.275320852924004),\n",
        " (20.600000000000001, 22.661444932932728),\n",
        " (23.5, 30.585901567320882),\n",
        " (21.5, 20.530728744497786),\n",
        " (50.0, 38.81653464098892),\n",
        " (19.5, 18.547713771942743),\n",
        " (42.299999999999997, 36.076379332223347),\n",
        " (12.5, 18.98729662793934),\n",
        " (21.699999999999999, 24.478580772939367)]"
       ]
      }
     ],
     "prompt_number": 7
    },
    {
     "cell_type": "markdown",
     "metadata": {},
     "source": [
      "##Solution to \"Boston Housing Assingnment\"\n",
      "The following computes the coefficient of determination $R^{2}$ for the linear regression above:"
     ]
    },
    {
     "cell_type": "code",
     "collapsed": false,
     "input": [
      "r2_score(y_test, clf.predict(X_test))"
     ],
     "language": "python",
     "metadata": {},
     "outputs": [
      {
       "metadata": {},
       "output_type": "pyout",
       "prompt_number": 8,
       "text": [
        "0.78822033470717567"
       ]
      }
     ],
     "prompt_number": 8
    },
    {
     "cell_type": "markdown",
     "metadata": {},
     "source": [
      "$R^{2}$ indicates the model explains approximately percentage of the variability of the data above the mean."
     ]
    },
    {
     "cell_type": "markdown",
     "metadata": {},
     "source": [
      "The following computes the coefficient of determination $MSE$ for the linear regression above:"
     ]
    },
    {
     "cell_type": "code",
     "collapsed": false,
     "input": [
      "mean_squared_error(y_test, clf.predict(X_test))"
     ],
     "language": "python",
     "metadata": {},
     "outputs": [
      {
       "metadata": {},
       "output_type": "pyout",
       "prompt_number": 9,
       "text": [
        "19.728599231566221"
       ]
      }
     ],
     "prompt_number": 9
    },
    {
     "cell_type": "markdown",
     "metadata": {},
     "source": [
      "from difference between the model to the value in test data, squared."
     ]
    },
    {
     "cell_type": "markdown",
     "metadata": {},
     "source": [
      "For the implementation of Ridge Regression Model:"
     ]
    },
    {
     "cell_type": "code",
     "collapsed": false,
     "input": [
      "from sklearn.linear_model import Ridge"
     ],
     "language": "python",
     "metadata": {},
     "outputs": [],
     "prompt_number": 10
    },
    {
     "cell_type": "code",
     "collapsed": false,
     "input": [
      "rrm=Ridge(alpha=0.1)\n",
      "rrm.fit(X_train,y_train)"
     ],
     "language": "python",
     "metadata": {},
     "outputs": [
      {
       "metadata": {},
       "output_type": "pyout",
       "prompt_number": 11,
       "text": [
        "Ridge(alpha=0.1, copy_X=True, fit_intercept=True, max_iter=None,\n",
        "   normalize=False, solver='auto', tol=0.001)"
       ]
      }
     ],
     "prompt_number": 11
    },
    {
     "cell_type": "code",
     "collapsed": false,
     "input": [
      "zip(y_test,rrm.predict(X_test))"
     ],
     "language": "python",
     "metadata": {},
     "outputs": [
      {
       "metadata": {},
       "output_type": "pyout",
       "prompt_number": 12,
       "text": [
        "[(19.300000000000001, 20.382089592967532),\n",
        " (26.5, 25.547503251498149),\n",
        " (22.199999999999999, 19.277799258739492),\n",
        " (23.699999999999999, 27.760468272600161),\n",
        " (28.699999999999999, 30.387869721515255),\n",
        " (22.800000000000001, 26.200367735382731),\n",
        " (31.100000000000001, 31.565581374374506),\n",
        " (23.600000000000001, 30.626725158575674),\n",
        " (19.899999999999999, 18.372398708037615),\n",
        " (20.0, 20.104736914101274),\n",
        " (16.5, 10.542436730560949),\n",
        " (23.399999999999999, 23.899392516439782),\n",
        " (33.200000000000003, 31.470806436699949),\n",
        " (17.800000000000001, 17.312356956241722),\n",
        " (23.300000000000001, 22.584432816572068),\n",
        " (22.0, 26.780081376626114),\n",
        " (14.4, 8.2342201128658434),\n",
        " (8.0999999999999996, 3.050730752891976),\n",
        " (18.800000000000001, 20.576552145715755),\n",
        " (23.100000000000001, 25.206042894235694),\n",
        " (13.1, 14.207871585408284),\n",
        " (19.399999999999999, 17.330279055717703),\n",
        " (30.699999999999999, 29.700930146855498),\n",
        " (7.5, 12.524717093113019),\n",
        " (13.5, 13.533165818649286),\n",
        " (24.100000000000001, 29.385019405648823),\n",
        " (14.1, 16.011714512294574),\n",
        " (28.399999999999999, 30.46028853316141),\n",
        " (32.200000000000003, 30.794129382472157),\n",
        " (29.600000000000001, 24.385982891304113),\n",
        " (36.100000000000001, 32.459731045921487),\n",
        " (22.300000000000001, 26.544319399879001),\n",
        " (22.800000000000001, 24.796402923837256),\n",
        " (23.300000000000001, 25.862928999393571),\n",
        " (30.300000000000001, 31.862752478098823),\n",
        " (17.100000000000001, 17.092934184465548),\n",
        " (19.0, 15.250931950683224),\n",
        " (25.0, 25.800922748497396),\n",
        " (8.4000000000000004, 13.842291802899284),\n",
        " (22.0, 21.543390721790185),\n",
        " (10.5, 6.5140776605296296),\n",
        " (19.699999999999999, 21.275695475182371),\n",
        " (21.699999999999999, 20.287650698294641),\n",
        " (23.899999999999999, 27.799059216817518),\n",
        " (43.799999999999997, 33.93454446366129),\n",
        " (13.9, 16.813334680664642),\n",
        " (16.0, 19.351065158343971),\n",
        " (21.699999999999999, 21.872646062823399),\n",
        " (44.799999999999997, 37.349953516414175),\n",
        " (14.4, 2.796404398262311),\n",
        " (16.699999999999999, 19.997397442590415),\n",
        " (10.800000000000001, 11.508140796988641),\n",
        " (24.0, 30.020050758809301),\n",
        " (19.800000000000001, 21.605196552685985),\n",
        " (29.100000000000001, 31.396733081220013),\n",
        " (50.0, 40.377516698788426),\n",
        " (29.100000000000001, 30.035317177509263),\n",
        " (11.699999999999999, 16.832437403216531),\n",
        " (17.199999999999999, 16.810718417440487),\n",
        " (24.800000000000001, 25.578704917043197),\n",
        " (20.399999999999999, 20.640890968217715),\n",
        " (13.1, 15.149559650794483),\n",
        " (31.699999999999999, 33.009968535588328),\n",
        " (23.899999999999999, 27.719504894950735),\n",
        " (11.9, 22.931491890370133),\n",
        " (22.899999999999999, 25.467515800302781),\n",
        " (50.0, 41.34181369519635),\n",
        " (8.5, 16.59015394900705),\n",
        " (33.100000000000001, 32.311387584178576),\n",
        " (15.0, 17.382181397075261),\n",
        " (17.399999999999999, 17.751935543727953),\n",
        " (25.100000000000001, 29.678534504307716),\n",
        " (13.800000000000001, 10.49373120756057),\n",
        " (27.100000000000001, 27.46710739584956),\n",
        " (50.0, 35.13035884782289),\n",
        " (13.800000000000001, 20.555434893465158),\n",
        " (50.0, 39.768268641541361),\n",
        " (11.5, 14.683711884062323),\n",
        " (27.5, 24.490492323342171),\n",
        " (37.899999999999999, 33.765987891275785),\n",
        " (20.5, 20.904810613764212),\n",
        " (50.0, 41.942673264336236),\n",
        " (26.399999999999999, 22.952995935502077),\n",
        " (25.0, 25.344100961998208),\n",
        " (20.800000000000001, 23.336983036253745),\n",
        " (20.0, 22.535403797850201),\n",
        " (22.5, 21.862491942254803),\n",
        " (23.300000000000001, 28.438533122935969),\n",
        " (37.600000000000001, 37.033118558271795),\n",
        " (23.399999999999999, 24.241745170166595),\n",
        " (18.5, 19.899560436110661),\n",
        " (21.699999999999999, 21.738743343601744),\n",
        " (17.5, 18.52078732636144),\n",
        " (18.399999999999999, 19.010691268604198),\n",
        " (32.5, 31.357059131752237),\n",
        " (19.800000000000001, 22.636766257238698),\n",
        " (48.799999999999997, 39.351977962156411),\n",
        " (22.899999999999999, 23.082785526272044),\n",
        " (24.699999999999999, 25.542372166314539),\n",
        " (13.800000000000001, 17.257857972049791),\n",
        " (11.300000000000001, 13.469853673502012),\n",
        " (23.699999999999999, 9.0353150002691844),\n",
        " (19.600000000000001, 21.911249199547179),\n",
        " (22.100000000000001, 27.130448983610883),\n",
        " (21.0, 20.88756326479697),\n",
        " (33.399999999999999, 34.961417462042292),\n",
        " (21.0, 21.136504108940098),\n",
        " (28.100000000000001, 24.83758586108042),\n",
        " (22.199999999999999, 24.21453792075226),\n",
        " (7.4000000000000004, 5.1445571707574658),\n",
        " (24.399999999999999, 22.806443707037822),\n",
        " (19.300000000000001, 21.11847542019753),\n",
        " (20.600000000000001, 22.435136469751598),\n",
        " (19.600000000000001, 18.789590453127026),\n",
        " (13.4, 13.072332753340422),\n",
        " (19.600000000000001, 19.633051795924825),\n",
        " (19.699999999999999, 13.621736331343785),\n",
        " (38.700000000000003, 34.832120846057819),\n",
        " (22.399999999999999, 23.277258764130384),\n",
        " (20.600000000000001, 22.66137355549542),\n",
        " (23.5, 30.583358727125464),\n",
        " (21.5, 20.536151565289522),\n",
        " (50.0, 38.815006668078553),\n",
        " (19.5, 18.549903611994456),\n",
        " (42.299999999999997, 36.07893097033319),\n",
        " (12.5, 18.986432717476823),\n",
        " (21.699999999999999, 24.475747772277149)]"
       ]
      }
     ],
     "prompt_number": 12
    },
    {
     "cell_type": "code",
     "collapsed": false,
     "input": [
      "r2_score(y_test,rrm.predict(X_test))"
     ],
     "language": "python",
     "metadata": {},
     "outputs": [
      {
       "metadata": {},
       "output_type": "pyout",
       "prompt_number": 13,
       "text": [
        "0.78826524248899665"
       ]
      }
     ],
     "prompt_number": 13
    },
    {
     "cell_type": "code",
     "collapsed": false,
     "input": [
      "mean_squared_error(y_test,rrm.predict(X_test))"
     ],
     "language": "python",
     "metadata": {},
     "outputs": [
      {
       "metadata": {},
       "output_type": "pyout",
       "prompt_number": 14,
       "text": [
        "19.724415791061208"
       ]
      }
     ],
     "prompt_number": 14
    },
    {
     "cell_type": "markdown",
     "metadata": {},
     "source": [
      "After the implementation of the Ridge Regression, similar values were found in the $R^{2}$ and $MSE$ values.<br>\n",
      "<br>\n",
      "To optimize the regression model, a polynomial is required to fit the data to check if the $R^{2}$ increases while $MSE$ decreases."
     ]
    },
    {
     "cell_type": "code",
     "collapsed": false,
     "input": [
      "from sklearn.preprocessing import PolynomialFeatures"
     ],
     "language": "python",
     "metadata": {},
     "outputs": [],
     "prompt_number": 15
    },
    {
     "cell_type": "code",
     "collapsed": false,
     "input": [
      "sq = PolynomialFeatures(degree=2)#Square Model#\n",
      "X_t = sq.fit_transform(X_train)\n",
      "X_p = sq.fit_transform(X_test)"
     ],
     "language": "python",
     "metadata": {},
     "outputs": [],
     "prompt_number": 16
    },
    {
     "cell_type": "code",
     "collapsed": false,
     "input": [
      "sqf=LinearRegression()\n",
      "sqf.fit(X_t,y_train)"
     ],
     "language": "python",
     "metadata": {},
     "outputs": [
      {
       "metadata": {},
       "output_type": "pyout",
       "prompt_number": 17,
       "text": [
        "LinearRegression(copy_X=True, fit_intercept=True, normalize=False)"
       ]
      }
     ],
     "prompt_number": 17
    },
    {
     "cell_type": "code",
     "collapsed": false,
     "input": [
      "zip(y_test,sqf.predict(X_p))"
     ],
     "language": "python",
     "metadata": {},
     "outputs": [
      {
       "metadata": {},
       "output_type": "pyout",
       "prompt_number": 18,
       "text": [
        "[(19.300000000000001, 19.7874755859375),\n",
        " (26.5, 27.095458984375),\n",
        " (22.199999999999999, 22.4061279296875),\n",
        " (23.699999999999999, 28.7537841796875),\n",
        " (28.699999999999999, 32.08428955078125),\n",
        " (22.800000000000001, 24.07733154296875),\n",
        " (31.100000000000001, 30.99151611328125),\n",
        " (23.600000000000001, 29.47857666015625),\n",
        " (19.899999999999999, 20.1278076171875),\n",
        " (20.0, 21.69891357421875),\n",
        " (16.5, 21.4930419921875),\n",
        " (23.399999999999999, 21.2396240234375),\n",
        " (33.200000000000003, 34.4976806640625),\n",
        " (17.800000000000001, 16.95343017578125),\n",
        " (23.300000000000001, 18.86639404296875),\n",
        " (22.0, 27.48974609375),\n",
        " (14.4, 25.0211181640625),\n",
        " (8.0999999999999996, 6.32275390625),\n",
        " (18.800000000000001, 16.24322509765625),\n",
        " (23.100000000000001, 24.72021484375),\n",
        " (13.1, 12.7843017578125),\n",
        " (19.399999999999999, 16.184326171875),\n",
        " (30.699999999999999, 32.265380859375),\n",
        " (7.5, 10.6051025390625),\n",
        " (13.5, 15.3187255859375),\n",
        " (24.100000000000001, 20.44635009765625),\n",
        " (14.1, 14.189697265625),\n",
        " (28.399999999999999, 28.17425537109375),\n",
        " (32.200000000000003, 32.821533203125),\n",
        " (29.600000000000001, 25.51885986328125),\n",
        " (36.100000000000001, 33.57330322265625),\n",
        " (22.300000000000001, 27.20123291015625),\n",
        " (22.800000000000001, 19.9935302734375),\n",
        " (23.300000000000001, 26.01318359375),\n",
        " (30.300000000000001, 30.5360107421875),\n",
        " (17.100000000000001, 10.882080078125),\n",
        " (19.0, 11.66680908203125),\n",
        " (25.0, 24.622314453125),\n",
        " (8.4000000000000004, 12.4107666015625),\n",
        " (22.0, 19.12066650390625),\n",
        " (10.5, 7.66162109375),\n",
        " (19.699999999999999, 21.70977783203125),\n",
        " (21.699999999999999, 23.20074462890625),\n",
        " (23.899999999999999, 24.76947021484375),\n",
        " (43.799999999999997, 42.02484130859375),\n",
        " (13.9, 11.5264892578125),\n",
        " (16.0, 17.84423828125),\n",
        " (21.699999999999999, 19.0767822265625),\n",
        " (44.799999999999997, 45.73675537109375),\n",
        " (14.4, 16.3643798828125),\n",
        " (16.699999999999999, 17.57366943359375),\n",
        " (10.800000000000001, 8.87567138671875),\n",
        " (24.0, 23.15777587890625),\n",
        " (19.800000000000001, 18.51458740234375),\n",
        " (29.100000000000001, 26.82147216796875),\n",
        " (50.0, 48.40936279296875),\n",
        " (29.100000000000001, 27.22296142578125),\n",
        " (11.699999999999999, 14.8326416015625),\n",
        " (17.199999999999999, 17.28216552734375),\n",
        " (24.800000000000001, 23.10858154296875),\n",
        " (20.399999999999999, 20.7884521484375),\n",
        " (13.1, 8.72943115234375),\n",
        " (31.699999999999999, 35.463623046875),\n",
        " (23.899999999999999, 23.237548828125),\n",
        " (11.9, 15.47174072265625),\n",
        " (22.899999999999999, 22.53533935546875),\n",
        " (50.0, 59.00732421875),\n",
        " (8.5, 15.84783935546875),\n",
        " (33.100000000000001, 32.7420654296875),\n",
        " (15.0, 19.639892578125),\n",
        " (17.399999999999999, 18.1373291015625),\n",
        " (25.100000000000001, 28.36474609375),\n",
        " (13.800000000000001, 27.30902099609375),\n",
        " (27.100000000000001, 25.787109375),\n",
        " (50.0, 53.3284912109375),\n",
        " (13.800000000000001, 19.9517822265625),\n",
        " (50.0, 48.7183837890625),\n",
        " (11.5, 14.76202392578125),\n",
        " (27.5, 24.802734375),\n",
        " (37.899999999999999, 37.1392822265625),\n",
        " (20.5, 20.20892333984375),\n",
        " (50.0, 51.94293212890625),\n",
        " (26.399999999999999, 20.99627685546875),\n",
        " (25.0, 25.68701171875),\n",
        " (20.800000000000001, 21.02978515625),\n",
        " (20.0, 21.4810791015625),\n",
        " (22.5, 23.2972412109375),\n",
        " (23.300000000000001, 25.9014892578125),\n",
        " (37.600000000000001, 43.65997314453125),\n",
        " (23.399999999999999, 21.44140625),\n",
        " (18.5, 19.112548828125),\n",
        " (21.699999999999999, 18.734619140625),\n",
        " (17.5, 17.58740234375),\n",
        " (18.399999999999999, 15.6424560546875),\n",
        " (32.5, 31.1876220703125),\n",
        " (19.800000000000001, 21.02203369140625),\n",
        " (48.799999999999997, 51.93133544921875),\n",
        " (22.899999999999999, 19.972900390625),\n",
        " (24.699999999999999, 24.18975830078125),\n",
        " (13.800000000000001, 20.157470703125),\n",
        " (11.300000000000001, 12.12384033203125),\n",
        " (23.699999999999999, 31.2603759765625),\n",
        " (19.600000000000001, 17.5203857421875),\n",
        " (22.100000000000001, 25.228759765625),\n",
        " (21.0, 20.10137939453125),\n",
        " (33.399999999999999, 37.6690673828125),\n",
        " (21.0, 21.73199462890625),\n",
        " (28.100000000000001, 25.90625),\n",
        " (22.199999999999999, 22.16839599609375),\n",
        " (7.4000000000000004, 8.40997314453125),\n",
        " (24.399999999999999, 22.28338623046875),\n",
        " (19.300000000000001, 19.1815185546875),\n",
        " (20.600000000000001, 21.7061767578125),\n",
        " (19.600000000000001, 9.59991455078125),\n",
        " (13.4, 19.9827880859375),\n",
        " (19.600000000000001, 24.4608154296875),\n",
        " (19.699999999999999, 16.261962890625),\n",
        " (38.700000000000003, 39.77056884765625),\n",
        " (22.399999999999999, 19.72216796875),\n",
        " (20.600000000000001, 16.00628662109375),\n",
        " (23.5, 25.93505859375),\n",
        " (21.5, 19.69329833984375),\n",
        " (50.0, 55.77105712890625),\n",
        " (19.5, 18.008056640625),\n",
        " (42.299999999999997, 42.72821044921875),\n",
        " (12.5, 16.01800537109375),\n",
        " (21.699999999999999, 20.36822509765625)]"
       ]
      }
     ],
     "prompt_number": 18
    },
    {
     "cell_type": "code",
     "collapsed": false,
     "input": [
      "r2_score(y_test,sqf.predict(X_p))"
     ],
     "language": "python",
     "metadata": {},
     "outputs": [
      {
       "metadata": {},
       "output_type": "pyout",
       "prompt_number": 19,
       "text": [
        "0.86700661751618457"
       ]
      }
     ],
     "prompt_number": 19
    },
    {
     "cell_type": "code",
     "collapsed": false,
     "input": [
      "mean_squared_error(y_test,sqf.predict(X_p))"
     ],
     "language": "python",
     "metadata": {},
     "outputs": [
      {
       "metadata": {},
       "output_type": "pyout",
       "prompt_number": 20,
       "text": [
        "12.389164653016827"
       ]
      }
     ],
     "prompt_number": 20
    },
    {
     "cell_type": "code",
     "collapsed": false,
     "input": [
      "rrs=Ridge(alpha=0.5, copy_X=True, fit_intercept=True, max_iter=None,normalize=False, solver='auto', tol=0.1)\n",
      "rrs.fit(X_t,y_train)"
     ],
     "language": "python",
     "metadata": {},
     "outputs": [
      {
       "metadata": {},
       "output_type": "pyout",
       "prompt_number": 21,
       "text": [
        "Ridge(alpha=0.5, copy_X=True, fit_intercept=True, max_iter=None,\n",
        "   normalize=False, solver='auto', tol=0.1)"
       ]
      }
     ],
     "prompt_number": 21
    },
    {
     "cell_type": "code",
     "collapsed": false,
     "input": [
      "r2_score(y_test,rrs.predict(X_p))"
     ],
     "language": "python",
     "metadata": {},
     "outputs": [
      {
       "metadata": {},
       "output_type": "pyout",
       "prompt_number": 22,
       "text": [
        "0.87525480787557308"
       ]
      }
     ],
     "prompt_number": 22
    },
    {
     "cell_type": "code",
     "collapsed": false,
     "input": [
      "mean_squared_error(y_test,rrs.predict(X_p))"
     ],
     "language": "python",
     "metadata": {},
     "outputs": [
      {
       "metadata": {},
       "output_type": "pyout",
       "prompt_number": 23,
       "text": [
        "11.620794178160111"
       ]
      }
     ],
     "prompt_number": 23
    },
    {
     "cell_type": "markdown",
     "metadata": {},
     "source": [
      "Base on the increased value of $R^{2}$ and the decrease of the $MSE$, a quadratic equation will create a better model for the data than a linear model."
     ]
    }
   ],
   "metadata": {}
  }
 ]
}