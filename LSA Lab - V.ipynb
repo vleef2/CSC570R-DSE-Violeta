{
 "metadata": {
  "name": "",
  "signature": "sha256:a151ac623e88b926a275fd3ebc8923ef29e95a797413356e3c9d6a9319161ee2"
 },
 "nbformat": 3,
 "nbformat_minor": 0,
 "worksheets": [
  {
   "cells": [
    {
     "cell_type": "markdown",
     "metadata": {},
     "source": [
      "Violeta Lee Fay Li <br>\n",
      "CSC570R - Spring 2015 <br>\n",
      "LSA Lab <br>"
     ]
    },
    {
     "cell_type": "code",
     "collapsed": false,
     "input": [
      "from sklearn.datasets import fetch_20newsgroups\n",
      "import nltk\n",
      "from nltk.corpus import stopwords\n",
      "from sklearn.feature_extraction.text import TfidfVectorizer\n",
      "from sklearn.decomposition import TruncatedSVD\n",
      "nltk.download('stopwords')"
     ],
     "language": "python",
     "metadata": {},
     "outputs": [
      {
       "output_type": "stream",
       "stream": "stdout",
       "text": [
        "[nltk_data] Downloading package stopwords to\n",
        "[nltk_data]     C:\\Users\\Michito\\AppData\\Roaming\\nltk_data...\n",
        "[nltk_data]   Package stopwords is already up-to-date!\n"
       ]
      },
      {
       "metadata": {},
       "output_type": "pyout",
       "prompt_number": 1,
       "text": [
        "True"
       ]
      }
     ],
     "prompt_number": 1
    },
    {
     "cell_type": "code",
     "collapsed": false,
     "input": [
      "categories =['sci.med']"
     ],
     "language": "python",
     "metadata": {},
     "outputs": [],
     "prompt_number": 2
    },
    {
     "cell_type": "code",
     "collapsed": false,
     "input": [
      "dataset = fetch_20newsgroups(subset='all', shuffle=True, random_state=42, categories = categories)"
     ],
     "language": "python",
     "metadata": {},
     "outputs": [],
     "prompt_number": 3
    },
    {
     "cell_type": "code",
     "collapsed": false,
     "input": [
      "corpus = dataset.data"
     ],
     "language": "python",
     "metadata": {},
     "outputs": [],
     "prompt_number": 4
    },
    {
     "cell_type": "code",
     "collapsed": false,
     "input": [
      "stopwset = set(stopwords.words('english'))"
     ],
     "language": "python",
     "metadata": {},
     "outputs": [],
     "prompt_number": 5
    },
    {
     "cell_type": "markdown",
     "metadata": {},
     "source": [
      "Set stopwords that can be associated with the detail concept of medicine, but are too detail for the general concept."
     ]
    },
    {
     "cell_type": "code",
     "collapsed": false,
     "input": [
      "stopwset.update(['publishing','lt','p','/p','br','amp','quot','field','font','normal','span','0px','rgb','style','51', \n",
      "                'spacing','text','helvetica','size','family','space','arial','height','indent','letter',\n",
      "                'line','none','sans','serif','transform','line','variant','weight','times','new','strong','video','title',\n",
      "                'white','word','letter','roman','0pt','16','color','12','14','21', 'neue', 'apple', 'class','\\n','com','good',\n",
      "                'posting','nntp','00','11','10','n3jxp', 'banks','edu','cs','gordon','geb','article','write','chastity',\n",
      "                '000','000iu','go','long','school','skepticism','dyer','re','msg','question','uga','one','subject','writes',\n",
      "                'would','like','get','candida','also','use','think','food','many','time','pittsburgh','know','world','better',\n",
      "                'finland','neal','david','people','0000001200','pitt','computer','lines','sol1','carl','caltech','gps',\n",
      "                'harvard','volume','number','newsletter','page','ve','host','well','way','much','netcom','colonization',\n",
      "                'helsinki','enterprise','bih','ai','aisun3','may','help','quack','georgia','michael','covington','mcovingt',\n",
      "                'could','bill','org','object','vms','ocom','okstate','april','noring','1993','hicnet','pages','infj','excessive',\n",
      "                'even','reply','0000','00014','fumail','fi','000821','19752','000','000mg','bitter','ago','albicans','anti',\n",
      "                'anecdotal','anyone','anything','apana','au','around','available','back','believe','14','15','20','92','821',\n",
      "                'best','bloom','blooms','center','case','certain','chinese','charles','unlv','book','booklet','cadre','dsl',\n",
      "                'shameful','called','certain','ca','bu','come','course','corn','distribution','day','york','connection','work',\n",
      "                'years','without','want','used','us','unlv','univ','typing','try','things','thing','two','turpin','take',\n",
      "                'sure','stuff','still','steve','spelling','spdcc','something','tobacco','smokeless','since','see','scorch',\n",
      "                'sci','said','say','sas','rsi','really','reason','read','point','post','pictures','photography','person',\n",
      "                'perhaps', 'paulson','old','non','need','navy','mil','nasa','gov','must','might','mitre','med','maybe','mail',\n",
      "                'lydick','lot','larc','lady','krillean','keyboard','keep','jim','jon','involves taking','interested','info',\n",
      "                'hp','gov','going','group','gif','gi','found','first','find','etc','every','great','tell','0010','515','972',\n",
      "                '001','001ig','001642','9186','omen','003258u19250','001004','10983','003406','little','using','0033',\n",
      "                'current','phone','o157','6122','004158','17','1991','000ug','fax','61','004021809','national','0049',\n",
      "                'sharp','stick','00500','doesn','25','stephen','mit','h7','keywords','007','008','005148','7899','aio','004627',\n",
      "                '21258','rmtc','roumanie','romania', ])"
     ],
     "language": "python",
     "metadata": {},
     "outputs": [],
     "prompt_number": 6
    },
    {
     "cell_type": "markdown",
     "metadata": {},
     "source": [
      "Before the corpus has all stopwords removed."
     ]
    },
    {
     "cell_type": "code",
     "collapsed": false,
     "input": [
      "corpus[0]"
     ],
     "language": "python",
     "metadata": {},
     "outputs": [
      {
       "metadata": {},
       "output_type": "pyout",
       "prompt_number": 7,
       "text": [
        "u'From: dstock@hpqmoca.sqf.hp.com (David Stockton)\\nSubject: Re: Krillean Photography\\nNntp-Posting-Host: hpqmocb.sqf.hp.com\\nOrganization: Hewlett-Packard LTD, South Queensferry, Scotland\\nX-Newsreader: TIN [version 1.1 PL8.8]\\nLines: 23\\n\\nVINCI (filipe@vxcrna.cern.ch) wrote:\\n\\n\\n\\n:  How about Kirlian imaging ? I believe the FAQ for sci.skeptics (sp?)\\n:  has a nice write-up on this. They would certainly be most supportive\\n:  on helping you to build such a device and connect to a 120Kvolt\\n:  supply so that you can take a serious look at your \"aura\"... :-)\\n\\n:  Filipe Santos\\n:  CERN - European Laboratory for Particle Physics\\n:  Switzerland\\n\\n\\n    This has to be THE only, generally accepted, method of using common \\nphysics lab equipment to find certain answers to all the questions about\\nafterlifes, heavens, hells, purgatory, gods etc. Krillean photography\\nwill probably be ignored as insignificant compared to these larger\\neternal verities. Publishing your results could be a bit of a problem,\\nthough.\\n\\n   Cheers\\n             David\\n'"
       ]
      }
     ],
     "prompt_number": 7
    },
    {
     "cell_type": "code",
     "collapsed": false,
     "input": [
      "vectorizer = TfidfVectorizer(stop_words=stopwset,\n",
      "                                 use_idf=True, ngram_range=(1, 3))\n",
      "M = vectorizer.fit_transform(corpus)"
     ],
     "language": "python",
     "metadata": {},
     "outputs": [],
     "prompt_number": 8
    },
    {
     "cell_type": "code",
     "collapsed": false,
     "input": [
      "M[0]"
     ],
     "language": "python",
     "metadata": {},
     "outputs": [
      {
       "metadata": {},
       "output_type": "pyout",
       "prompt_number": 9,
       "text": [
        "<1x224641 sparse matrix of type '<type 'numpy.float64'>'\n",
        "\twith 218 stored elements in Compressed Sparse Row format>"
       ]
      }
     ],
     "prompt_number": 9
    },
    {
     "cell_type": "markdown",
     "metadata": {},
     "source": [
      "After the corpus has all stop words removed."
     ]
    },
    {
     "cell_type": "code",
     "collapsed": false,
     "input": [
      "print M[0]"
     ],
     "language": "python",
     "metadata": {},
     "outputs": [
      {
       "output_type": "stream",
       "stream": "stdout",
       "text": [
        "  (0, 157583)\t0.074017846946\n",
        "  (0, 30789)\t0.074017846946\n",
        "  (0, 171920)\t0.074017846946\n",
        "  (0, 215261)\t0.074017846946\n",
        "  (0, 74525)\t0.074017846946\n",
        "  (0, 113972)\t0.074017846946\n",
        "  (0, 47264)\t0.074017846946\n",
        "  (0, 105470)\t0.074017846946\n",
        "  (0, 99868)\t0.074017846946\n",
        "  (0, 157109)\t0.074017846946\n",
        "  (0, 88717)\t0.074017846946\n",
        "  (0, 161680)\t0.074017846946\n",
        "  (0, 94235)\t0.074017846946\n",
        "  (0, 94014)\t0.074017846946\n",
        "  (0, 15845)\t0.074017846946\n",
        "  (0, 162548)\t0.074017846946\n",
        "  (0, 20784)\t0.074017846946\n",
        "  (0, 73642)\t0.074017846946\n",
        "  (0, 113176)\t0.074017846946\n",
        "  (0, 150821)\t0.074017846946\n",
        "  (0, 46777)\t0.074017846946\n",
        "  (0, 128099)\t0.074017846946\n",
        "  (0, 12534)\t0.074017846946\n",
        "  (0, 86726)\t0.074017846946\n",
        "  (0, 197170)\t0.074017846946\n",
        "  :\t:\n",
        "  (0, 100379)\t0.053320131407\n",
        "  (0, 112102)\t0.0458630789126\n",
        "  (0, 222817)\t0.0374961969863\n",
        "  (0, 40414)\t0.0540288478135\n",
        "  (0, 40090)\t0.122298145935\n",
        "  (0, 217203)\t0.0646054212729\n",
        "  (0, 81200)\t0.133795243584\n",
        "  (0, 215878)\t0.0668976217919\n",
        "  (0, 4719)\t0.043771646612\n",
        "  (0, 151420)\t0.0493859149161\n",
        "  (0, 215282)\t0.0418090673204\n",
        "  (0, 204073)\t0.0427435579476\n",
        "  (0, 136387)\t0.0403539887989\n",
        "  (0, 178477)\t0.074017846946\n",
        "  (0, 162479)\t0.074017846946\n",
        "  (0, 188126)\t0.0520344163614\n",
        "  (0, 120444)\t0.0611490729676\n",
        "  (0, 144755)\t0.0668976217919\n",
        "  (0, 94856)\t0.0668976217919\n",
        "  (0, 142270)\t0.0105667295563\n",
        "  (0, 97933)\t0.074017846946\n",
        "  (0, 191672)\t0.074017846946\n",
        "  (0, 189686)\t0.148035693892\n",
        "  (0, 97930)\t0.074017846946\n",
        "  (0, 67401)\t0.074017846946\n"
       ]
      }
     ],
     "prompt_number": 10
    },
    {
     "cell_type": "code",
     "collapsed": false,
     "input": [
      "M.shape"
     ],
     "language": "python",
     "metadata": {},
     "outputs": [
      {
       "metadata": {},
       "output_type": "pyout",
       "prompt_number": 11,
       "text": [
        "(990, 224641)"
       ]
      }
     ],
     "prompt_number": 11
    },
    {
     "cell_type": "code",
     "collapsed": false,
     "input": [
      "lsaw = TruncatedSVD(n_components=20, n_iter=100)\n",
      "lsaw.fit(M)"
     ],
     "language": "python",
     "metadata": {},
     "outputs": [
      {
       "metadata": {},
       "output_type": "pyout",
       "prompt_number": 12,
       "text": [
        "TruncatedSVD(algorithm='randomized', n_components=20, n_iter=100,\n",
        "       random_state=None, tol=0.0)"
       ]
      }
     ],
     "prompt_number": 12
    },
    {
     "cell_type": "code",
     "collapsed": false,
     "input": [
      "#This is the first row for terms\n",
      "lsaw.components_[0]"
     ],
     "language": "python",
     "metadata": {},
     "outputs": [
      {
       "metadata": {},
       "output_type": "pyout",
       "prompt_number": 13,
       "text": [
        "array([ 0.00049987,  0.00042143,  0.00042143, ...,  0.00027042,\n",
        "        0.00027042,  0.00027042])"
       ]
      }
     ],
     "prompt_number": 13
    },
    {
     "cell_type": "code",
     "collapsed": false,
     "input": [
      "terms = vectorizer.get_feature_names()\n",
      "for i, comp in enumerate(lsaw.components_): \n",
      "    termsInComp = zip (terms,comp)\n",
      "    sortedTerms =  sorted(termsInComp, key=lambda x: x[1], reverse=True) [:7]\n",
      "    print \"Concept of Medicine %d:\" % i\n",
      "    for term in sortedTerms:\n",
      "        print term[0]\n",
      "    print \" \""
     ],
     "language": "python",
     "metadata": {},
     "outputs": [
      {
       "output_type": "stream",
       "stream": "stdout",
       "text": [
        "Concept of Medicine 0:\n",
        "yeast\n",
        "medical\n",
        "organization\n",
        "university\n",
        "patients\n",
        "disease\n",
        "cancer\n",
        " \n",
        "Concept of Medicine 1:"
       ]
      },
      {
       "output_type": "stream",
       "stream": "stdout",
       "text": [
        "\n",
        "biology teacher\n",
        "teacher\n",
        "biology\n",
        "pregnency\n",
        "pregnency sex\n",
        "sex\n",
        "__\n",
        " \n",
        "Concept of Medicine 2:"
       ]
      },
      {
       "output_type": "stream",
       "stream": "stdout",
       "text": [
        "\n",
        "yeast\n",
        "nystatin\n",
        "infections\n",
        "symptoms\n",
        "systemic\n",
        "sinus\n",
        "sporanox\n",
        " \n",
        "Concept of Medicine 3:"
       ]
      },
      {
       "output_type": "stream",
       "stream": "stdout",
       "text": [
        "\n",
        "cancer\n",
        "hiv\n",
        "medical\n",
        "aids\n",
        "health\n",
        "infection\n",
        "conventional wisdom\n",
        " \n",
        "Concept of Medicine 4:"
       ]
      },
      {
       "output_type": "stream",
       "stream": "stdout",
       "text": [
        "\n",
        "hiv\n",
        "cancer\n",
        "aids\n",
        "health\n",
        "research\n",
        "patients\n",
        "treatment\n",
        " \n",
        "Concept of Medicine 5:"
       ]
      },
      {
       "output_type": "stream",
       "stream": "stdout",
       "text": [
        "\n",
        "hiv\n",
        "aids\n",
        "00am constructive\n",
        "doctors\n",
        "bacteria\n",
        "someone\n",
        "problem\n",
        " \n",
        "Concept of Medicine 6:"
       ]
      },
      {
       "output_type": "stream",
       "stream": "stdout",
       "text": [
        "\n",
        "university\n",
        "00am constructive\n",
        "organization\n",
        "science\n",
        "chronic\n",
        "symptoms\n",
        "information\n",
        " \n",
        "Concept of Medicine 7:"
       ]
      },
      {
       "output_type": "stream",
       "stream": "stdout",
       "text": [
        "\n",
        "cancer\n",
        "doctor\n",
        "vitamin\n",
        "patient\n",
        "system\n",
        "mucus\n",
        "sinus\n",
        " \n",
        "Concept of Medicine 8:"
       ]
      },
      {
       "output_type": "stream",
       "stream": "stdout",
       "text": [
        "\n",
        "00am break\n",
        "diet\n",
        "university\n",
        "fat\n",
        "health\n",
        "physician\n",
        "drugs\n",
        " \n",
        "Concept of Medicine 9:"
       ]
      },
      {
       "output_type": "stream",
       "stream": "stdout",
       "text": [
        "\n",
        "science\n",
        "university\n",
        "hiv\n",
        "seems\n",
        "information\n",
        "state\n",
        "00am continental breakfast\n",
        " \n",
        "Concept of Medicine 10:"
       ]
      },
      {
       "output_type": "stream",
       "stream": "stdout",
       "text": [
        "\n",
        "cancer\n",
        "doctor\n",
        "science\n",
        "evidence\n",
        "fact\n",
        "clinical\n",
        "part\n",
        " \n",
        "Concept of Medicine 11:"
       ]
      },
      {
       "output_type": "stream",
       "stream": "stdout",
       "text": [
        "\n",
        "university\n",
        "enough\n",
        "blood\n",
        "medical\n",
        "make\n",
        "008561 viking\n",
        "please\n",
        " \n",
        "Concept of Medicine 12:"
       ]
      },
      {
       "output_type": "stream",
       "stream": "stdout",
       "text": [
        "\n",
        "yeast\n",
        "00am continental breakfast\n",
        "aids\n",
        "research\n",
        "cancer\n",
        "thanks\n",
        "patients\n",
        " \n",
        "Concept of Medicine 13:"
       ]
      },
      {
       "output_type": "stream",
       "stream": "stdout",
       "text": [
        "\n",
        "yeast\n",
        "medicine\n",
        "008561 viking\n",
        "test\n",
        "patients\n",
        "right\n",
        "water\n",
        " \n",
        "Concept of Medicine 14:"
       ]
      },
      {
       "output_type": "stream",
       "stream": "stdout",
       "text": [
        "\n",
        "seems\n",
        "00pm\n",
        "00am continental breakfast\n",
        "organization\n",
        "00am constructive induction\n",
        "00am continental\n",
        "science\n",
        " \n",
        "Concept of Medicine 15:"
       ]
      },
      {
       "output_type": "stream",
       "stream": "stdout",
       "text": [
        "\n",
        "00am break\n",
        "cancer\n",
        "008561 viking penguin\n",
        "patients\n",
        "doctor\n",
        "problem\n",
        "thanks\n",
        " \n",
        "Concept of Medicine 16:"
       ]
      },
      {
       "output_type": "stream",
       "stream": "stdout",
       "text": [
        "\n",
        "treatment\n",
        "doctors\n",
        "make\n",
        "00am\n",
        "cancer\n",
        "00am continental breakfast\n",
        "information\n",
        " \n",
        "Concept of Medicine 17:"
       ]
      },
      {
       "output_type": "stream",
       "stream": "stdout",
       "text": [
        "\n",
        "cancer\n",
        "00am break\n",
        "00am continental breakfast\n",
        "hiv\n",
        "university\n",
        "medicine\n",
        "aids\n",
        " \n",
        "Concept of Medicine 18:"
       ]
      },
      {
       "output_type": "stream",
       "stream": "stdout",
       "text": [
        "\n",
        "medical\n",
        "science\n",
        "00am break 00am\n",
        "evidence\n",
        "00am constructive induction\n",
        "00am continental\n",
        "body\n",
        " \n",
        "Concept of Medicine 19:"
       ]
      },
      {
       "output_type": "stream",
       "stream": "stdout",
       "text": [
        "\n",
        "university\n",
        "00am continental\n",
        "diet\n",
        "008561 viking\n",
        "vitamin\n",
        "00am break 00am\n",
        "00am\n",
        " \n"
       ]
      }
     ],
     "prompt_number": 14
    },
    {
     "cell_type": "markdown",
     "metadata": {},
     "source": [
      "The concept of medicine from the vectorized news data is very complex. It pertains to research doctors who gather medical information at various universities and organizations to do health related studies in relation to HIV, pregnancy, Lyme desease, E.coli, kidney desease, aids, cancer, Chron, etc. It also pertains to food, nutrition, supplements and vitamincs."
     ]
    },
    {
     "cell_type": "code",
     "collapsed": false,
     "input": [],
     "language": "python",
     "metadata": {},
     "outputs": []
    }
   ],
   "metadata": {}
  }
 ]
}